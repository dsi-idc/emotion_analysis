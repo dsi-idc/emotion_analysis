{
 "cells": [
  {
   "cell_type": "markdown",
   "source": [
    "## Usage example"
   ],
   "metadata": {
    "collapsed": false
   }
  },
  {
   "cell_type": "code",
   "execution_count": 2,
   "outputs": [],
   "source": [
    "# Install packages\n",
    "#!pip install simpletransformers\n",
    "#!pip install wandb\n",
    "#!pip install tweet-preprocessor\n",
    "#!pip install farasapy\n",
    "#!pip install pyarabic\n",
    "#!pip install transformers\n",
    "#!pip install nltk\n",
    "#!pip install spacy\n",
    "#!git clone https://github.com/aub-mind/arabert"
   ],
   "metadata": {
    "collapsed": false,
    "pycharm": {
     "name": "#%%\n"
    }
   }
  },
  {
   "cell_type": "markdown",
   "source": [
    "### Train the model"
   ],
   "metadata": {
    "collapsed": false,
    "pycharm": {
     "name": "#%% md\n"
    }
   }
  },
  {
   "cell_type": "code",
   "execution_count": 1,
   "outputs": [
    {
     "name": "stderr",
     "output_type": "stream",
     "text": [
      "wandb: WARNING W&B installed but not logged in.  Run `wandb login` or set the WANDB_API_KEY env variable.\n",
      "Some weights of the model checkpoint at aubmindlab/bert-base-arabert were not used when initializing BertForMultiLabelSequenceClassification: ['cls.predictions.bias', 'cls.predictions.transform.dense.weight', 'cls.predictions.transform.dense.bias', 'cls.predictions.transform.LayerNorm.weight', 'cls.predictions.transform.LayerNorm.bias', 'cls.predictions.decoder.weight', 'cls.seq_relationship.weight', 'cls.seq_relationship.bias']\n",
      "- This IS expected if you are initializing BertForMultiLabelSequenceClassification from the checkpoint of a model trained on another task or with another architecture (e.g. initializing a BertForSequenceClassification model from a BertForPretraining model).\n",
      "- This IS NOT expected if you are initializing BertForMultiLabelSequenceClassification from the checkpoint of a model that you expect to be exactly identical (initializing a BertForSequenceClassification model from a BertForSequenceClassification model).\n",
      "Some weights of BertForMultiLabelSequenceClassification were not initialized from the model checkpoint at aubmindlab/bert-base-arabert and are newly initialized: ['classifier.weight', 'classifier.bias']\n",
      "You should probably TRAIN this model on a down-stream task to be able to use it for predictions and inference.\n",
      "C:\\ProgramData\\Anaconda3\\envs\\pythonProject\\lib\\site-packages\\farasa\\__base.py:44: UserWarning: Be careful with large lines as they may break on interactive mode. You may switch to Standalone mode for such cases.\n",
      "  warnings.warn(\n"
     ]
    },
    {
     "name": "stdout",
     "output_type": "stream",
     "text": [
      "           0\n",
      "anger    4.0\n",
      "disgust  4.0\n",
      "fear     4.0\n",
      "joy      4.0\n",
      "sadness  1.5\n",
      "perform system check...\n",
      "check java version...\n",
      "Your java version is 1.8 which is compatiple with Farasa \n",
      "check toolkit binaries...\n",
      "Dependencies seem to be satisfied..\n",
      "\u001B[37minitializing [SEGMENT] task in \u001B[32mINTERACTIVE \u001B[37mmode...\n",
      "task [SEGMENT] is initialized interactively.\n",
      "perform system check...\n",
      "check java version...\n",
      "Your java version is 1.8 which is compatiple with Farasa \n",
      "check toolkit binaries...\n",
      "Dependencies seem to be satisfied..\n",
      "\u001B[37minitializing [SEGMENT] task in \u001B[32mINTERACTIVE \u001B[37mmode...\n",
      "task [SEGMENT] is initialized interactively.\n",
      "\n",
      "\n",
      "\n"
     ]
    },
    {
     "data": {
      "text/plain": "HBox(children=(FloatProgress(value=0.0, max=5.0), HTML(value='')))",
      "application/vnd.jupyter.widget-view+json": {
       "version_major": 2,
       "version_minor": 0,
       "model_id": "7c59b00e7ff04408985712c02d36912e"
      }
     },
     "metadata": {},
     "output_type": "display_data"
    },
    {
     "data": {
      "text/plain": "HBox(children=(FloatProgress(value=0.0, description='Epoch', max=1.0, style=ProgressStyle(description_width='i…",
      "application/vnd.jupyter.widget-view+json": {
       "version_major": 2,
       "version_minor": 0,
       "model_id": "2b8628cdc35949a0b86c6ba80b8763fc"
      }
     },
     "metadata": {},
     "output_type": "display_data"
    },
    {
     "data": {
      "text/plain": "HBox(children=(FloatProgress(value=0.0, description='Running Epoch 0 of 1', max=1.0, style=ProgressStyle(descr…",
      "application/vnd.jupyter.widget-view+json": {
       "version_major": 2,
       "version_minor": 0,
       "model_id": "2b8249436c5e4f84ae9479deae44dafc"
      }
     },
     "metadata": {},
     "output_type": "display_data"
    }
   ],
   "source": [
    "import pandas as pd\n",
    "from emotion_analysis.emotion_clf import EmotionMultilabelClassification\n",
    "\n",
    "# Load the datasets (you can import 'dataset/small.csv' instead for a quick first run)\n",
    "train_data = pd.read_csv('dataset/train_data.csv')\n",
    "eval_data = pd.read_csv('dataset/eval_data.csv')\n",
    "test_data = pd.read_csv('dataset/test_data.csv')\n",
    "\n",
    "# Preprocess the data -> train the model\n",
    "emc = EmotionMultilabelClassification() # Init the model\n",
    "emc.fit(train_data,eval_data) # Train the model"
   ],
   "metadata": {
    "collapsed": false,
    "pycharm": {
     "name": "#%%\n"
    }
   }
  },
  {
   "cell_type": "markdown",
   "source": [
    "### Evaluate the model performance"
   ],
   "metadata": {
    "collapsed": false
   }
  },
  {
   "cell_type": "code",
   "execution_count": 4,
   "outputs": [
    {
     "name": "stdout",
     "output_type": "stream",
     "text": [
      "              precision    recall  f1-score   support\n",
      "\n",
      "       anger       0.73      0.82      0.78       301\n",
      "     disgust       0.63      0.48      0.55       153\n",
      "        fear       0.78      0.83      0.81       149\n",
      "         joy       0.86      0.79      0.82       276\n",
      "     sadness       0.65      0.77      0.70       344\n",
      "\n",
      "   micro avg       0.73      0.76      0.74      1223\n",
      "   macro avg       0.73      0.74      0.73      1223\n",
      "weighted avg       0.73      0.76      0.74      1223\n",
      " samples avg       0.77      0.80      0.75      1223\n",
      "\n"
     ]
    }
   ],
   "source": [
    "# Preprocess evaluation data -> init the model -> evaluate results\n",
    "emc = EmotionMultilabelClassification(verbose=False) # Init the model, disable verbose (optional)\n",
    "eval_df = emc.transform(test_data,evaluate=True,return_df=True) # Set 'evaluate=True' to get the model performance report\n",
    "print(emc.evaluation_report) # Print the model performance report"
   ],
   "metadata": {
    "collapsed": false,
    "pycharm": {
     "name": "#%%\n"
    }
   }
  },
  {
   "cell_type": "markdown",
   "source": [
    "### Predict emotion on new data"
   ],
   "metadata": {
    "collapsed": false
   }
  },
  {
   "cell_type": "code",
   "execution_count": 6,
   "outputs": [],
   "source": [
    "# Preprocess new data -> init the model -> predict results\n",
    "unlabeled_data =[\"انها مثل هذا اليوم الجميل\",\n",
    "                 \"كان لدي أسبوع مرهق ... لا بد لي من العودة إلى المنزل\"]\n",
    "emc = EmotionMultilabelClassification() # Init the model"
   ],
   "metadata": {
    "collapsed": false,
    "pycharm": {
     "name": "#%%\n"
    }
   }
  },
  {
   "cell_type": "code",
   "execution_count": 9,
   "outputs": [
    {
     "name": "stdout",
     "output_type": "stream",
     "text": [
      "perform system check...\n",
      "check java version...\n",
      "Your java version is 1.8 which is compatiple with Farasa \n",
      "check toolkit binaries...\n",
      "Dependencies seem to be satisfied..\n",
      "\u001B[37minitializing [SEGMENT] task in \u001B[32mINTERACTIVE \u001B[37mmode...\n",
      "task [SEGMENT] is initialized interactively.\n",
      "\n",
      "\n"
     ]
    },
    {
     "name": "stderr",
     "output_type": "stream",
     "text": [
      "C:\\ProgramData\\Anaconda3\\envs\\pythonProject\\lib\\site-packages\\farasa\\__base.py:44: UserWarning: Be careful with large lines as they may break on interactive mode. You may switch to Standalone mode for such cases.\n",
      "  warnings.warn(\n"
     ]
    },
    {
     "data": {
      "text/plain": "HBox(children=(FloatProgress(value=0.0, max=2.0), HTML(value='')))",
      "application/vnd.jupyter.widget-view+json": {
       "version_major": 2,
       "version_minor": 0,
       "model_id": "0266273f42ed453099077d7a88da86aa"
      }
     },
     "metadata": {},
     "output_type": "display_data"
    },
    {
     "data": {
      "text/plain": "HBox(children=(FloatProgress(value=0.0, max=1.0), HTML(value='')))",
      "application/vnd.jupyter.widget-view+json": {
       "version_major": 2,
       "version_minor": 0,
       "model_id": "d3ca15eadd1747d291d86646a3afa983"
      }
     },
     "metadata": {},
     "output_type": "display_data"
    },
    {
     "data": {
      "text/plain": "   anger_raw  disgust_raw  fear_raw   joy_raw  sadness_raw       predictions  \\\n0   0.615635     0.384423  0.651310  0.482711     0.383108       anger, fear   \n1   0.517781     0.380428  0.602198  0.547809     0.353674  anger, fear, joy   \n\n                                                text  \n0                   +ان +ها مثل هذا ال+ يوم ال+ جميل  \n1  كان لدي أسبوع مرهق . لا بد لي من ال+ عود +ة إل...  ",
      "text/html": "<div>\n<style scoped>\n    .dataframe tbody tr th:only-of-type {\n        vertical-align: middle;\n    }\n\n    .dataframe tbody tr th {\n        vertical-align: top;\n    }\n\n    .dataframe thead th {\n        text-align: right;\n    }\n</style>\n<table border=\"1\" class=\"dataframe\">\n  <thead>\n    <tr style=\"text-align: right;\">\n      <th></th>\n      <th>anger_raw</th>\n      <th>disgust_raw</th>\n      <th>fear_raw</th>\n      <th>joy_raw</th>\n      <th>sadness_raw</th>\n      <th>predictions</th>\n      <th>text</th>\n    </tr>\n  </thead>\n  <tbody>\n    <tr>\n      <th>0</th>\n      <td>0.615635</td>\n      <td>0.384423</td>\n      <td>0.651310</td>\n      <td>0.482711</td>\n      <td>0.383108</td>\n      <td>anger, fear</td>\n      <td>+ان +ها مثل هذا ال+ يوم ال+ جميل</td>\n    </tr>\n    <tr>\n      <th>1</th>\n      <td>0.517781</td>\n      <td>0.380428</td>\n      <td>0.602198</td>\n      <td>0.547809</td>\n      <td>0.353674</td>\n      <td>anger, fear, joy</td>\n      <td>كان لدي أسبوع مرهق . لا بد لي من ال+ عود +ة إل...</td>\n    </tr>\n  </tbody>\n</table>\n</div>"
     },
     "execution_count": 9,
     "metadata": {},
     "output_type": "execute_result"
    }
   ],
   "source": [
    "# Returns full dataframe\n",
    "# Save the full results (prediction and probabilities) to csv\n",
    "prediction_df = emc.transform(unlabeled_data,return_df=True,results_to_csv=True)\n",
    "prediction_df"
   ],
   "metadata": {
    "collapsed": false,
    "pycharm": {
     "name": "#%%\n"
    }
   }
  },
  {
   "cell_type": "code",
   "execution_count": 10,
   "outputs": [
    {
     "name": "stdout",
     "output_type": "stream",
     "text": [
      "perform system check...\n",
      "check java version...\n",
      "Your java version is 1.8 which is compatiple with Farasa \n",
      "check toolkit binaries...\n",
      "Dependencies seem to be satisfied..\n",
      "\u001B[37minitializing [SEGMENT] task in \u001B[32mINTERACTIVE \u001B[37mmode...\n",
      "task [SEGMENT] is initialized interactively.\n",
      "\n",
      "\n"
     ]
    },
    {
     "name": "stderr",
     "output_type": "stream",
     "text": [
      "C:\\ProgramData\\Anaconda3\\envs\\pythonProject\\lib\\site-packages\\farasa\\__base.py:44: UserWarning: Be careful with large lines as they may break on interactive mode. You may switch to Standalone mode for such cases.\n",
      "  warnings.warn(\n"
     ]
    },
    {
     "data": {
      "text/plain": "HBox(children=(FloatProgress(value=0.0, max=2.0), HTML(value='')))",
      "application/vnd.jupyter.widget-view+json": {
       "version_major": 2,
       "version_minor": 0,
       "model_id": "ad17a759161f4b5db5e0298fcc8596a3"
      }
     },
     "metadata": {},
     "output_type": "display_data"
    },
    {
     "data": {
      "text/plain": "HBox(children=(FloatProgress(value=0.0, max=1.0), HTML(value='')))",
      "application/vnd.jupyter.widget-view+json": {
       "version_major": 2,
       "version_minor": 0,
       "model_id": "ddcc9159f2ae478ca4dd1acfd869b12f"
      }
     },
     "metadata": {},
     "output_type": "display_data"
    },
    {
     "data": {
      "text/plain": "array([[0.6156352 , 0.3844232 , 0.65131027, 0.4827109 , 0.3831085 ],\n       [0.51778114, 0.3804276 , 0.6021984 , 0.5478085 , 0.35367358]],\n      dtype=float32)"
     },
     "execution_count": 10,
     "metadata": {},
     "output_type": "execute_result"
    }
   ],
   "source": [
    "# Returns only the array of probabilities\n",
    "probabilities = emc.transform(unlabeled_data)\n",
    "probabilities"
   ],
   "metadata": {
    "collapsed": false,
    "pycharm": {
     "name": "#%%\n"
    }
   }
  },
  {
   "cell_type": "markdown",
   "source": [
    "### Load trained model"
   ],
   "metadata": {
    "collapsed": false
   }
  },
  {
   "cell_type": "code",
   "execution_count": 3,
   "outputs": [
    {
     "name": "stderr",
     "output_type": "stream",
     "text": [
      "Some weights of the model checkpoint at aubmindlab/bert-base-arabert were not used when initializing BertForMultiLabelSequenceClassification: ['cls.predictions.bias', 'cls.predictions.transform.dense.weight', 'cls.predictions.transform.dense.bias', 'cls.predictions.transform.LayerNorm.weight', 'cls.predictions.transform.LayerNorm.bias', 'cls.predictions.decoder.weight', 'cls.seq_relationship.weight', 'cls.seq_relationship.bias']\n",
      "- This IS expected if you are initializing BertForMultiLabelSequenceClassification from the checkpoint of a model trained on another task or with another architecture (e.g. initializing a BertForSequenceClassification model from a BertForPretraining model).\n",
      "- This IS NOT expected if you are initializing BertForMultiLabelSequenceClassification from the checkpoint of a model that you expect to be exactly identical (initializing a BertForSequenceClassification model from a BertForSequenceClassification model).\n",
      "Some weights of BertForMultiLabelSequenceClassification were not initialized from the model checkpoint at aubmindlab/bert-base-arabert and are newly initialized: ['classifier.weight', 'classifier.bias']\n",
      "You should probably TRAIN this model on a down-stream task to be able to use it for predictions and inference.\n",
      "C:\\ProgramData\\Anaconda3\\envs\\pythonProject\\lib\\site-packages\\farasa\\__base.py:44: UserWarning: Be careful with large lines as they may break on interactive mode. You may switch to Standalone mode for such cases.\n",
      "  warnings.warn(\n"
     ]
    },
    {
     "name": "stdout",
     "output_type": "stream",
     "text": [
      "perform system check...\n",
      "check java version...\n",
      "Your java version is 1.8 which is compatiple with Farasa \n",
      "check toolkit binaries...\n",
      "Dependencies seem to be satisfied..\n",
      "\u001B[37minitializing [SEGMENT] task in \u001B[32mINTERACTIVE \u001B[37mmode...\n",
      "task [SEGMENT] is initialized interactively.\n",
      "\n",
      "\n",
      "              precision    recall  f1-score   support\n",
      "\n",
      "       anger       0.73      0.82      0.78       301\n",
      "     disgust       0.63      0.48      0.55       153\n",
      "        fear       0.78      0.83      0.81       149\n",
      "         joy       0.86      0.79      0.82       276\n",
      "     sadness       0.65      0.77      0.70       344\n",
      "\n",
      "   micro avg       0.73      0.76      0.74      1223\n",
      "   macro avg       0.73      0.74      0.73      1223\n",
      "weighted avg       0.73      0.76      0.74      1223\n",
      " samples avg       0.77      0.80      0.75      1223\n",
      "\n"
     ]
    },
    {
     "data": {
      "text/plain": "HBox(children=(FloatProgress(value=0.0, max=760.0), HTML(value='')))",
      "application/vnd.jupyter.widget-view+json": {
       "version_major": 2,
       "version_minor": 0,
       "model_id": "95d55b9eadde4bf0bd8a5752d651f705"
      }
     },
     "metadata": {},
     "output_type": "display_data"
    },
    {
     "data": {
      "text/plain": "HBox(children=(FloatProgress(value=0.0, max=95.0), HTML(value='')))",
      "application/vnd.jupyter.widget-view+json": {
       "version_major": 2,
       "version_minor": 0,
       "model_id": "af78f1fb36f04acead587aca2b9bb621"
      }
     },
     "metadata": {},
     "output_type": "display_data"
    },
    {
     "data": {
      "text/plain": "                                                  text  \\\n0             مابقى عند +ي دموع ابكي علي ك+ تنهيدة شطر   \n1    و+ الله يرحم الي تسبب +ت ب+ ال+ حادث بنت شابه ...   \n2    ايش اجاوب وان +ت +ي داري عارف ال+ حال ب+ وضوح ...   \n3      حلو +ت +ي مثل ال+ غيوم دائم +ا تمليني فرح ✨ ? ?   \n4    ال+ أمن ال+ سعودي هو من أنقذ رفاق ك+ في جزير +...   \n..                                                 ...   \n755  و+ لي +ه أفرح ل+ ما ممكن أكتئب و+ لي +ه أتجوز ...   \n756  أحكام ال+ إعدام قد صدر +ت في 1994 م ب+ حق ال+ ...   \n757  و+ أنا كل ما اتكلم مع امك ال+ اقي ال+ مكالمه ك...   \n758  ال+ نهارد +ة تاني احلي يوم في ال+ سن +ة بعد ba...   \n759  يضيق ال+ خناق على ال+ موظف و+ مايرقيه و+ يقص ا...   \n\n                ground_truth              predictions  \n0                    sadness                  sadness  \n1                    sadness     anger, fear, sadness  \n2                    sadness                  sadness  \n3                        joy                      joy  \n4                      anger           anger, disgust  \n..                       ...                      ...  \n755                  sadness      anger, joy, sadness  \n756  anger, disgust, sadness     anger, fear, sadness  \n757                    anger           anger, sadness  \n758                      joy                      joy  \n759  anger, disgust, sadness  anger, disgust, sadness  \n\n[760 rows x 3 columns]",
      "text/html": "<div>\n<style scoped>\n    .dataframe tbody tr th:only-of-type {\n        vertical-align: middle;\n    }\n\n    .dataframe tbody tr th {\n        vertical-align: top;\n    }\n\n    .dataframe thead th {\n        text-align: right;\n    }\n</style>\n<table border=\"1\" class=\"dataframe\">\n  <thead>\n    <tr style=\"text-align: right;\">\n      <th></th>\n      <th>text</th>\n      <th>ground_truth</th>\n      <th>predictions</th>\n    </tr>\n  </thead>\n  <tbody>\n    <tr>\n      <th>0</th>\n      <td>مابقى عند +ي دموع ابكي علي ك+ تنهيدة شطر</td>\n      <td>sadness</td>\n      <td>sadness</td>\n    </tr>\n    <tr>\n      <th>1</th>\n      <td>و+ الله يرحم الي تسبب +ت ب+ ال+ حادث بنت شابه ...</td>\n      <td>sadness</td>\n      <td>anger, fear, sadness</td>\n    </tr>\n    <tr>\n      <th>2</th>\n      <td>ايش اجاوب وان +ت +ي داري عارف ال+ حال ب+ وضوح ...</td>\n      <td>sadness</td>\n      <td>sadness</td>\n    </tr>\n    <tr>\n      <th>3</th>\n      <td>حلو +ت +ي مثل ال+ غيوم دائم +ا تمليني فرح ✨ ? ?</td>\n      <td>joy</td>\n      <td>joy</td>\n    </tr>\n    <tr>\n      <th>4</th>\n      <td>ال+ أمن ال+ سعودي هو من أنقذ رفاق ك+ في جزير +...</td>\n      <td>anger</td>\n      <td>anger, disgust</td>\n    </tr>\n    <tr>\n      <th>...</th>\n      <td>...</td>\n      <td>...</td>\n      <td>...</td>\n    </tr>\n    <tr>\n      <th>755</th>\n      <td>و+ لي +ه أفرح ل+ ما ممكن أكتئب و+ لي +ه أتجوز ...</td>\n      <td>sadness</td>\n      <td>anger, joy, sadness</td>\n    </tr>\n    <tr>\n      <th>756</th>\n      <td>أحكام ال+ إعدام قد صدر +ت في 1994 م ب+ حق ال+ ...</td>\n      <td>anger, disgust, sadness</td>\n      <td>anger, fear, sadness</td>\n    </tr>\n    <tr>\n      <th>757</th>\n      <td>و+ أنا كل ما اتكلم مع امك ال+ اقي ال+ مكالمه ك...</td>\n      <td>anger</td>\n      <td>anger, sadness</td>\n    </tr>\n    <tr>\n      <th>758</th>\n      <td>ال+ نهارد +ة تاني احلي يوم في ال+ سن +ة بعد ba...</td>\n      <td>joy</td>\n      <td>joy</td>\n    </tr>\n    <tr>\n      <th>759</th>\n      <td>يضيق ال+ خناق على ال+ موظف و+ مايرقيه و+ يقص ا...</td>\n      <td>anger, disgust, sadness</td>\n      <td>anger, disgust, sadness</td>\n    </tr>\n  </tbody>\n</table>\n<p>760 rows × 3 columns</p>\n</div>"
     },
     "execution_count": 3,
     "metadata": {},
     "output_type": "execute_result"
    }
   ],
   "source": [
    "# Preprocess new data -> init the model -> load pre-trained model -> predict results\n",
    "emc = EmotionMultilabelClassification()\n",
    "# Returns full dataframe\n",
    "prediction_df = emc.transform(test_data,\n",
    "                              pretrained_model=\"checkpoint-3800-epoch-10\",\n",
    "                              evaluate=True,\n",
    "                              return_df=True)\n",
    "prediction_df"
   ],
   "metadata": {
    "collapsed": false,
    "pycharm": {
     "name": "#%%\n"
    }
   }
  }
 ],
 "metadata": {
  "kernelspec": {
   "name": "python3",
   "language": "python",
   "display_name": "Python 3"
  },
  "language_info": {
   "codemirror_mode": {
    "name": "ipython",
    "version": 2
   },
   "file_extension": ".py",
   "mimetype": "text/x-python",
   "name": "python",
   "nbconvert_exporter": "python",
   "pygments_lexer": "ipython2",
   "version": "2.7.6"
  }
 },
 "nbformat": 4,
 "nbformat_minor": 0
}